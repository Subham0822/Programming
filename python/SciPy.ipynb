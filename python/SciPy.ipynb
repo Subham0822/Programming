{
 "cells": [
  {
   "cell_type": "code",
   "execution_count": 2,
   "id": "bcf541af-1b28-4924-9c57-ff3795fa07d6",
   "metadata": {},
   "outputs": [],
   "source": [
    "from numpy import vstack,array"
   ]
  },
  {
   "cell_type": "code",
   "execution_count": 4,
   "id": "ad695bdc-1152-4c2f-bd86-0798fadd4e5a",
   "metadata": {},
   "outputs": [],
   "source": [
    "from numpy.random import rand  "
   ]
  },
  {
   "cell_type": "code",
   "execution_count": 6,
   "id": "e28e3583-c73c-484f-8711-2babf7119764",
   "metadata": {},
   "outputs": [],
   "source": [
    "from scipy.cluster.vq import kmeans,vq,whiten  "
   ]
  },
  {
   "cell_type": "code",
   "execution_count": 8,
   "id": "01b267c9-6389-4cd4-a14d-938531132573",
   "metadata": {},
   "outputs": [],
   "source": [
    "data1 = vstack((rand(100,3) + array([.5,.5,.5]),rand(100,3))) "
   ]
  },
  {
   "cell_type": "code",
   "execution_count": 9,
   "id": "ef2ac7f6-39ea-4446-a61f-4d62b28351a2",
   "metadata": {},
   "outputs": [
    {
     "data": {
      "text/plain": [
       "array([[8.87079572e-01, 8.03889406e-01, 7.36595124e-01],\n",
       "       [8.32107636e-01, 8.46855540e-01, 6.95859356e-01],\n",
       "       [8.49927352e-01, 9.24579094e-01, 8.23120582e-01],\n",
       "       [1.18091282e+00, 1.43450706e+00, 1.31295229e+00],\n",
       "       [8.25902036e-01, 1.09827621e+00, 5.31135953e-01],\n",
       "       [5.14290424e-01, 8.04084697e-01, 1.05303652e+00],\n",
       "       [9.57382317e-01, 7.48962054e-01, 8.75267837e-01],\n",
       "       [8.69640588e-01, 1.05392680e+00, 8.88019213e-01],\n",
       "       [5.46807902e-01, 1.21510183e+00, 1.30588883e+00],\n",
       "       [1.20175645e+00, 1.27945322e+00, 7.88181205e-01],\n",
       "       [1.08799906e+00, 8.04215794e-01, 5.60795207e-01],\n",
       "       [1.39662442e+00, 8.52685381e-01, 6.52963764e-01],\n",
       "       [5.31597748e-01, 6.86986838e-01, 7.06781237e-01],\n",
       "       [9.33387043e-01, 1.48607979e+00, 8.54611806e-01],\n",
       "       [1.45963691e+00, 1.06531096e+00, 8.55914542e-01],\n",
       "       [7.35280095e-01, 1.37946953e+00, 1.36243948e+00],\n",
       "       [7.33306024e-01, 5.03414654e-01, 1.35842946e+00],\n",
       "       [9.43996049e-01, 9.86920263e-01, 1.14552112e+00],\n",
       "       [9.04963948e-01, 1.28484925e+00, 7.82333692e-01],\n",
       "       [1.30684893e+00, 1.44577576e+00, 1.15323974e+00],\n",
       "       [6.24460640e-01, 6.42050903e-01, 6.23247199e-01],\n",
       "       [1.10192597e+00, 1.29553115e+00, 1.19877671e+00],\n",
       "       [5.84302809e-01, 1.46208222e+00, 1.14364318e+00],\n",
       "       [7.34256772e-01, 9.64884446e-01, 1.24388260e+00],\n",
       "       [1.00256631e+00, 6.46975561e-01, 1.10568129e+00],\n",
       "       [1.28668316e+00, 5.70064088e-01, 1.48573466e+00],\n",
       "       [1.03943980e+00, 1.17778812e+00, 8.30945207e-01],\n",
       "       [5.11630232e-01, 5.50178318e-01, 1.47187658e+00],\n",
       "       [1.37019175e+00, 1.43828973e+00, 1.22084258e+00],\n",
       "       [1.42597130e+00, 1.16501981e+00, 8.04570240e-01],\n",
       "       [1.18358229e+00, 1.30166470e+00, 1.01837833e+00],\n",
       "       [1.42680840e+00, 7.38294507e-01, 6.53952501e-01],\n",
       "       [5.54500776e-01, 1.28346987e+00, 1.15432503e+00],\n",
       "       [9.64859962e-01, 9.47627604e-01, 9.58244406e-01],\n",
       "       [1.27088525e+00, 9.70833979e-01, 1.38628422e+00],\n",
       "       [7.50157285e-01, 5.03251064e-01, 6.21701088e-01],\n",
       "       [7.36657475e-01, 1.48329918e+00, 9.23898581e-01],\n",
       "       [7.95679219e-01, 1.45593487e+00, 1.28659871e+00],\n",
       "       [5.47627753e-01, 9.49969485e-01, 1.27935120e+00],\n",
       "       [6.33006385e-01, 6.79171089e-01, 5.81118173e-01],\n",
       "       [6.54346721e-01, 1.39001544e+00, 1.20718100e+00],\n",
       "       [6.47775563e-01, 1.39372401e+00, 1.38366429e+00],\n",
       "       [1.39162037e+00, 1.22329313e+00, 5.09990574e-01],\n",
       "       [8.52973106e-01, 6.44970717e-01, 9.29310763e-01],\n",
       "       [5.05134486e-01, 8.22424028e-01, 1.22840804e+00],\n",
       "       [7.99591204e-01, 1.42883534e+00, 7.71542209e-01],\n",
       "       [5.83819827e-01, 5.39885194e-01, 1.14224236e+00],\n",
       "       [6.05298613e-01, 1.32695759e+00, 6.56903556e-01],\n",
       "       [1.36094235e+00, 1.34747577e+00, 8.84291311e-01],\n",
       "       [1.00332961e+00, 9.47984249e-01, 1.10043821e+00],\n",
       "       [8.80420711e-01, 9.17646887e-01, 5.57601726e-01],\n",
       "       [7.74864197e-01, 1.16093392e+00, 1.32535162e+00],\n",
       "       [7.60813531e-01, 1.31856465e+00, 9.71968795e-01],\n",
       "       [6.68571159e-01, 1.49843950e+00, 1.28795217e+00],\n",
       "       [7.85751487e-01, 1.39814802e+00, 1.19064013e+00],\n",
       "       [1.48150560e+00, 7.92296287e-01, 1.01328528e+00],\n",
       "       [1.28488414e+00, 8.22748342e-01, 1.48119563e+00],\n",
       "       [1.44333262e+00, 8.57102478e-01, 5.45008201e-01],\n",
       "       [8.52575134e-01, 1.23170033e+00, 6.32233942e-01],\n",
       "       [1.09632130e+00, 6.38043628e-01, 5.27469324e-01],\n",
       "       [6.43837060e-01, 9.86279777e-01, 9.96177395e-01],\n",
       "       [1.29791344e+00, 1.09016654e+00, 1.46305675e+00],\n",
       "       [8.72899776e-01, 5.51198630e-01, 6.23323909e-01],\n",
       "       [9.13730228e-01, 6.09389076e-01, 1.07219701e+00],\n",
       "       [1.31047892e+00, 1.32874312e+00, 9.00564206e-01],\n",
       "       [6.23984466e-01, 5.92790805e-01, 8.00433605e-01],\n",
       "       [9.63979990e-01, 1.22550838e+00, 8.86051098e-01],\n",
       "       [8.38617053e-01, 9.83793574e-01, 1.32610079e+00],\n",
       "       [5.28832543e-01, 7.85798760e-01, 9.40678119e-01],\n",
       "       [1.45351631e+00, 8.82584474e-01, 1.03677287e+00],\n",
       "       [7.88733284e-01, 7.49550179e-01, 1.37693926e+00],\n",
       "       [1.32985794e+00, 7.24482733e-01, 5.46060759e-01],\n",
       "       [1.21446535e+00, 1.19470119e+00, 1.40964887e+00],\n",
       "       [7.17291105e-01, 1.36873393e+00, 6.46295002e-01],\n",
       "       [7.45025641e-01, 6.04825829e-01, 6.31866180e-01],\n",
       "       [8.54266342e-01, 6.48427893e-01, 1.18717934e+00],\n",
       "       [9.39479587e-01, 1.01749287e+00, 1.32282210e+00],\n",
       "       [1.49090204e+00, 9.00723314e-01, 6.21774980e-01],\n",
       "       [1.20060870e+00, 1.08127268e+00, 1.43774697e+00],\n",
       "       [1.29071869e+00, 6.83134473e-01, 7.50592239e-01],\n",
       "       [7.39041356e-01, 1.17953772e+00, 7.52212251e-01],\n",
       "       [1.26881920e+00, 6.68215543e-01, 1.27336930e+00],\n",
       "       [7.78708733e-01, 1.08548559e+00, 1.00145378e+00],\n",
       "       [7.28929386e-01, 6.63714552e-01, 1.11001292e+00],\n",
       "       [5.78137594e-01, 1.42507860e+00, 1.22482194e+00],\n",
       "       [1.18959519e+00, 1.09762241e+00, 1.37529801e+00],\n",
       "       [1.39857826e+00, 1.28636168e+00, 7.28909383e-01],\n",
       "       [8.73691064e-01, 1.08406296e+00, 7.02069557e-01],\n",
       "       [6.80664049e-01, 1.32516317e+00, 1.19836814e+00],\n",
       "       [8.92647585e-01, 1.43209651e+00, 7.19436988e-01],\n",
       "       [1.23975807e+00, 1.35941500e+00, 1.35056110e+00],\n",
       "       [1.26431284e+00, 1.15845729e+00, 1.42725077e+00],\n",
       "       [1.14143753e+00, 7.48702793e-01, 8.47698182e-01],\n",
       "       [9.52143560e-01, 1.47469117e+00, 6.51216801e-01],\n",
       "       [9.91591557e-01, 1.49743859e+00, 1.21812325e+00],\n",
       "       [5.90580418e-01, 9.05923965e-01, 6.04253467e-01],\n",
       "       [9.92293495e-01, 8.12389742e-01, 9.22388541e-01],\n",
       "       [9.06969268e-01, 1.43586753e+00, 9.15149487e-01],\n",
       "       [8.63767308e-01, 1.31576330e+00, 6.31115826e-01],\n",
       "       [1.41584821e+00, 8.52267054e-01, 8.72087518e-01],\n",
       "       [2.37294466e-01, 2.34585097e-01, 5.16039877e-01],\n",
       "       [9.97037605e-01, 1.85054106e-01, 6.27657220e-01],\n",
       "       [9.02677049e-01, 6.15726796e-01, 2.78681606e-01],\n",
       "       [9.66913342e-01, 7.11353062e-01, 8.30138560e-01],\n",
       "       [1.05328204e-01, 9.93093323e-01, 9.43760551e-01],\n",
       "       [9.96114595e-01, 5.69095227e-01, 9.77960727e-01],\n",
       "       [4.04053613e-01, 9.65939464e-01, 2.56963331e-02],\n",
       "       [6.05641150e-01, 7.90175521e-01, 5.82357728e-01],\n",
       "       [7.43562895e-01, 2.53220587e-01, 2.40561882e-01],\n",
       "       [5.97940575e-01, 1.47941819e-01, 1.79797736e-01],\n",
       "       [5.58008961e-03, 4.24269241e-01, 8.39821653e-01],\n",
       "       [4.61547506e-01, 7.64612637e-01, 6.04835672e-01],\n",
       "       [5.18104090e-01, 8.36135382e-01, 4.47361710e-01],\n",
       "       [4.59536367e-01, 3.53356132e-01, 3.74801994e-01],\n",
       "       [8.45028025e-01, 7.63201706e-01, 6.51238790e-02],\n",
       "       [3.05130191e-01, 4.46012721e-01, 4.81671480e-01],\n",
       "       [8.65708970e-01, 2.42866140e-01, 9.33344388e-01],\n",
       "       [1.49691589e-01, 8.87398132e-01, 1.91895170e-01],\n",
       "       [5.62534245e-01, 3.22376496e-01, 1.80076833e-03],\n",
       "       [5.16092038e-01, 7.68517138e-01, 9.35281223e-01],\n",
       "       [1.44314372e-01, 8.42858971e-01, 2.75496583e-01],\n",
       "       [6.43730472e-01, 5.81012872e-02, 7.97116586e-01],\n",
       "       [3.14144128e-01, 3.05777899e-01, 4.42145431e-01],\n",
       "       [7.12483813e-01, 1.42464066e-01, 6.98161143e-01],\n",
       "       [4.18387550e-01, 1.90369635e-01, 8.68382089e-02],\n",
       "       [8.75976395e-01, 5.32177727e-01, 8.33779516e-01],\n",
       "       [9.35995271e-01, 2.83319213e-01, 8.85398595e-01],\n",
       "       [1.09207079e-01, 5.09036022e-01, 4.40267415e-01],\n",
       "       [4.06150782e-01, 9.89117810e-01, 2.26038671e-01],\n",
       "       [9.57743390e-01, 8.90216676e-01, 3.73271317e-01],\n",
       "       [9.80906880e-01, 7.63577775e-01, 5.87806511e-01],\n",
       "       [1.66221642e-02, 3.81292486e-01, 4.17196826e-02],\n",
       "       [4.45857903e-01, 7.80039248e-01, 2.70939664e-01],\n",
       "       [9.03192530e-01, 5.72294250e-01, 9.78728604e-02],\n",
       "       [6.52548133e-01, 4.29147069e-01, 6.35034607e-01],\n",
       "       [9.75963540e-01, 5.86721973e-01, 2.00828184e-01],\n",
       "       [5.54007599e-01, 9.52874015e-01, 7.51779009e-01],\n",
       "       [5.10939463e-01, 4.83129190e-01, 7.21715443e-01],\n",
       "       [8.07867426e-01, 6.75756695e-01, 4.95142218e-01],\n",
       "       [7.46500209e-01, 8.35676136e-01, 7.29421484e-01],\n",
       "       [2.74424883e-01, 2.89044529e-01, 3.94944765e-01],\n",
       "       [4.47260573e-01, 8.24127463e-01, 3.99233322e-01],\n",
       "       [3.56957819e-01, 8.35005328e-01, 7.71683356e-01],\n",
       "       [3.39594988e-01, 5.11837992e-01, 1.38692142e-01],\n",
       "       [1.90276542e-01, 4.35293733e-01, 4.02214224e-01],\n",
       "       [8.25725059e-01, 5.17780388e-01, 9.98833612e-01],\n",
       "       [6.42198068e-01, 1.37807081e-04, 3.53954847e-01],\n",
       "       [7.16921082e-01, 5.27997681e-01, 8.22365619e-01],\n",
       "       [5.00558875e-01, 2.81993583e-01, 5.08357785e-01],\n",
       "       [5.91818648e-01, 5.84391626e-01, 9.38895899e-01],\n",
       "       [3.91264919e-01, 5.39364821e-01, 1.81732740e-01],\n",
       "       [3.51247249e-01, 2.01775231e-01, 8.32716484e-01],\n",
       "       [7.24711034e-01, 1.92692336e-01, 6.56922614e-01],\n",
       "       [1.80947803e-01, 6.62063505e-01, 3.20677639e-01],\n",
       "       [9.81341322e-01, 6.60721014e-02, 7.36649102e-01],\n",
       "       [3.09143008e-01, 2.82676422e-01, 6.41947041e-01],\n",
       "       [8.36212814e-02, 5.65741977e-01, 8.97386199e-01],\n",
       "       [6.03853520e-04, 9.36283929e-01, 6.34918382e-02],\n",
       "       [5.00605578e-01, 3.41878213e-01, 5.75537244e-01],\n",
       "       [8.37960003e-01, 5.17744349e-02, 6.90126516e-01],\n",
       "       [6.72775929e-02, 3.80274253e-01, 4.71582349e-01],\n",
       "       [1.10145421e-02, 3.97999820e-01, 7.56349268e-01],\n",
       "       [1.51840642e-01, 9.44365114e-01, 3.23815189e-01],\n",
       "       [5.68943972e-01, 5.02002830e-01, 5.83367661e-01],\n",
       "       [8.91860194e-01, 8.42955553e-01, 2.82354715e-01],\n",
       "       [1.10706365e-01, 1.43558345e-01, 8.39775518e-01],\n",
       "       [7.39546269e-01, 1.72916137e-01, 4.02371414e-01],\n",
       "       [6.18445196e-01, 2.27696579e-01, 8.90705923e-02],\n",
       "       [3.30759045e-01, 4.80616469e-01, 4.98184399e-02],\n",
       "       [5.03664675e-01, 7.28737259e-01, 1.82418711e-01],\n",
       "       [9.96687569e-01, 8.73217157e-01, 2.36014048e-01],\n",
       "       [5.01976139e-01, 6.19167357e-01, 8.51362083e-01],\n",
       "       [1.28254756e-01, 1.72415728e-01, 4.38045718e-01],\n",
       "       [4.82620606e-01, 9.27163081e-01, 5.87550722e-01],\n",
       "       [8.91793887e-01, 9.97718572e-01, 2.07201144e-01],\n",
       "       [6.51236982e-01, 4.09897665e-01, 3.43255479e-01],\n",
       "       [7.37922747e-01, 2.83444426e-01, 1.69860620e-01],\n",
       "       [5.04833116e-01, 6.74289107e-01, 6.86719373e-01],\n",
       "       [6.36808417e-01, 9.18360367e-01, 7.43282127e-01],\n",
       "       [6.95836071e-01, 1.01446301e-01, 2.96966640e-01],\n",
       "       [7.10889109e-01, 3.14927781e-01, 6.67176875e-02],\n",
       "       [1.28584605e-01, 8.74145506e-01, 1.11448320e-01],\n",
       "       [9.12531852e-01, 9.27580011e-01, 9.46302636e-01],\n",
       "       [7.83335254e-01, 9.05663059e-02, 3.26937789e-01],\n",
       "       [3.63486816e-01, 1.37884177e-01, 5.19016212e-01],\n",
       "       [4.62721791e-01, 3.42267009e-01, 9.09831433e-01],\n",
       "       [9.45688696e-01, 6.86282177e-01, 7.28961217e-01],\n",
       "       [3.61860392e-01, 9.82668627e-01, 3.32624560e-01],\n",
       "       [5.30557841e-01, 1.25150106e-01, 4.76063423e-01],\n",
       "       [8.53191590e-01, 4.23086011e-01, 2.18174615e-01],\n",
       "       [7.32687634e-01, 4.57648143e-01, 3.05327419e-01],\n",
       "       [3.57291517e-01, 9.15805099e-01, 1.05118923e-01],\n",
       "       [5.57853119e-01, 6.04178856e-01, 6.46454469e-01],\n",
       "       [8.72081795e-01, 9.57928667e-01, 2.95246393e-01],\n",
       "       [5.72024456e-01, 7.48145064e-01, 9.05976489e-01],\n",
       "       [2.72817708e-01, 2.25298539e-01, 3.58334632e-01],\n",
       "       [5.72013173e-01, 9.74754189e-01, 6.73007924e-01],\n",
       "       [3.74508179e-01, 6.41698508e-01, 8.97478481e-02],\n",
       "       [7.01594951e-01, 6.23557389e-01, 6.30635727e-01],\n",
       "       [9.46327763e-01, 9.08922539e-01, 9.45251694e-01]])"
      ]
     },
     "execution_count": 9,
     "metadata": {},
     "output_type": "execute_result"
    }
   ],
   "source": [
    "data1"
   ]
  },
  {
   "cell_type": "code",
   "execution_count": 13,
   "id": "9ee8b3a4-d388-4f7d-9f20-6faaa3bdd78f",
   "metadata": {},
   "outputs": [],
   "source": [
    "data1=whiten(data1)"
   ]
  },
  {
   "cell_type": "code",
   "execution_count": 15,
   "id": "141663f8-1c2f-44a8-87f2-acf20df58f8b",
   "metadata": {},
   "outputs": [],
   "source": [
    "centroids,_ = kmeans(data1,3)"
   ]
  },
  {
   "cell_type": "code",
   "execution_count": 17,
   "id": "26b4d683-ed71-48ee-b529-5ac6c2e6e10f",
   "metadata": {},
   "outputs": [
    {
     "name": "stdout",
     "output_type": "stream",
     "text": [
      "[[2.8994472  3.0718607  2.78205187]\n",
      " [1.15748535 1.21841221 0.89122161]\n",
      " [2.20978459 1.72499291 1.9893003 ]]\n"
     ]
    }
   ],
   "source": [
    "print(centroids)"
   ]
  },
  {
   "cell_type": "code",
   "execution_count": 21,
   "id": "0bd076b9-a15d-45bb-9df6-fadc284a2646",
   "metadata": {},
   "outputs": [
    {
     "ename": "NameError",
     "evalue": "name 'scipy' is not defined",
     "output_type": "error",
     "traceback": [
      "\u001b[1;31m---------------------------------------------------------------------------\u001b[0m",
      "\u001b[1;31mNameError\u001b[0m                                 Traceback (most recent call last)",
      "Cell \u001b[1;32mIn[21], line 1\u001b[0m\n\u001b[1;32m----> 1\u001b[0m \u001b[38;5;28mprint\u001b[39m(scipy\u001b[38;5;241m.\u001b[39mconstants\u001b[38;5;241m.\u001b[39mpi)\n",
      "\u001b[1;31mNameError\u001b[0m: name 'scipy' is not defined"
     ]
    }
   ],
   "source": []
  },
  {
   "cell_type": "code",
   "execution_count": 40,
   "id": "b6d78d14-37d8-4398-ae30-9a3d205020a8",
   "metadata": {},
   "outputs": [],
   "source": [
    "from scipy.constants import pi"
   ]
  },
  {
   "cell_type": "code",
   "execution_count": 38,
   "id": "182b254c-4cd2-4197-aade-f3ece28593b2",
   "metadata": {},
   "outputs": [
    {
     "ename": "NameError",
     "evalue": "name 'scipy' is not defined",
     "output_type": "error",
     "traceback": [
      "\u001b[1;31m---------------------------------------------------------------------------\u001b[0m",
      "\u001b[1;31mNameError\u001b[0m                                 Traceback (most recent call last)",
      "Cell \u001b[1;32mIn[38], line 1\u001b[0m\n\u001b[1;32m----> 1\u001b[0m \u001b[38;5;28mprint\u001b[39m(scipy\u001b[38;5;241m.\u001b[39mconstants\u001b[38;5;241m.\u001b[39mpi)\n",
      "\u001b[1;31mNameError\u001b[0m: name 'scipy' is not defined"
     ]
    }
   ],
   "source": [
    "print(scipy.constants.pi)"
   ]
  },
  {
   "cell_type": "code",
   "execution_count": 35,
   "id": "7be701c2-1e85-4a85-96e7-b80e92a2f077",
   "metadata": {},
   "outputs": [
    {
     "ename": "NameError",
     "evalue": "name 'scipy' is not defined",
     "output_type": "error",
     "traceback": [
      "\u001b[1;31m---------------------------------------------------------------------------\u001b[0m",
      "\u001b[1;31mNameError\u001b[0m                                 Traceback (most recent call last)",
      "Cell \u001b[1;32mIn[35], line 1\u001b[0m\n\u001b[1;32m----> 1\u001b[0m \u001b[38;5;28mprint\u001b[39m(\u001b[38;5;124m\"\u001b[39m\u001b[38;5;124msciPy - pi Value = \u001b[39m\u001b[38;5;132;01m%.18f\u001b[39;00m\u001b[38;5;124m\"\u001b[39m\u001b[38;5;241m%\u001b[39mscipy\u001b[38;5;241m.\u001b[39mconstants\u001b[38;5;241m.\u001b[39mpi)\n",
      "\u001b[1;31mNameError\u001b[0m: name 'scipy' is not defined"
     ]
    }
   ],
   "source": [
    "print(\"sciPy - pi Value = %.18f\"%scipy.constants.pi)  "
   ]
  },
  {
   "cell_type": "code",
   "execution_count": 42,
   "id": "56c21885-15b5-4f59-938b-a0742434bf59",
   "metadata": {},
   "outputs": [
    {
     "name": "stdout",
     "output_type": "stream",
     "text": [
      "3.141592653589793\n"
     ]
    }
   ],
   "source": [
    "print(pi)"
   ]
  },
  {
   "cell_type": "code",
   "execution_count": 44,
   "id": "247b490c-e7c8-465f-9781-e2c70e659273",
   "metadata": {},
   "outputs": [],
   "source": [
    "from math import pi "
   ]
  },
  {
   "cell_type": "code",
   "execution_count": 46,
   "id": "25a9aca7-ea2c-4a25-87d1-8816c415b25f",
   "metadata": {},
   "outputs": [
    {
     "ename": "NameError",
     "evalue": "name 'math' is not defined",
     "output_type": "error",
     "traceback": [
      "\u001b[1;31m---------------------------------------------------------------------------\u001b[0m",
      "\u001b[1;31mNameError\u001b[0m                                 Traceback (most recent call last)",
      "Cell \u001b[1;32mIn[46], line 1\u001b[0m\n\u001b[1;32m----> 1\u001b[0m \u001b[38;5;28mprint\u001b[39m(math\u001b[38;5;241m.\u001b[39mpi)\n",
      "\u001b[1;31mNameError\u001b[0m: name 'math' is not defined"
     ]
    }
   ],
   "source": [
    "print(math.pi)"
   ]
  },
  {
   "cell_type": "code",
   "execution_count": 48,
   "id": "7bc7253e-783b-4d8e-ad28-a5cc7eac22d3",
   "metadata": {},
   "outputs": [],
   "source": [
    "from scipy.fftpack import fft"
   ]
  },
  {
   "cell_type": "code",
   "execution_count": 50,
   "id": "cad9d763-026e-4cf5-be93-31bac2c80274",
   "metadata": {},
   "outputs": [],
   "source": [
    "import numpy as np"
   ]
  },
  {
   "cell_type": "code",
   "execution_count": 52,
   "id": "7bc131d4-c2e2-4ed8-b407-eea076d6aee2",
   "metadata": {},
   "outputs": [],
   "source": [
    "x = np.array([4.0, 2.0, 1.0, -3.0, 1.5])"
   ]
  },
  {
   "cell_type": "code",
   "execution_count": 54,
   "id": "d8e09591-5161-4b90-acb3-4ec635c78bad",
   "metadata": {},
   "outputs": [
    {
     "name": "stdout",
     "output_type": "stream",
     "text": [
      "[5.5       -0.j         6.69959347-2.82666927j 0.55040653+3.51033344j\n",
      " 0.55040653-3.51033344j 6.69959347+2.82666927j]\n"
     ]
    }
   ],
   "source": [
    "y=fft(x)\n",
    "print(y)"
   ]
  },
  {
   "cell_type": "code",
   "execution_count": 10,
   "id": "3519eecd-6cb5-4f2a-9a62-3e0d03a3d01d",
   "metadata": {},
   "outputs": [],
   "source": [
    "from scipy import linalg"
   ]
  },
  {
   "cell_type": "code",
   "execution_count": 12,
   "id": "3e43e922-c3df-41ae-ac7c-3028321f2fde",
   "metadata": {},
   "outputs": [],
   "source": [
    "import numpy as np"
   ]
  },
  {
   "cell_type": "code",
   "execution_count": 16,
   "id": "eca8cf87-60a9-4fa7-a520-3b74a57d92a7",
   "metadata": {},
   "outputs": [
    {
     "name": "stdout",
     "output_type": "stream",
     "text": [
      "[0.74074074 1.40740741]\n"
     ]
    }
   ],
   "source": [
    "a=np.array([[7,2],[4,5]])\n",
    "b=np.array([8,10])\n",
    "res=linalg.solve(a,b)\n",
    "print(res)"
   ]
  },
  {
   "cell_type": "code",
   "execution_count": 18,
   "id": "eaad0555-bcab-4058-a54d-c2dcd0742c08",
   "metadata": {},
   "outputs": [
    {
     "name": "stdout",
     "output_type": "stream",
     "text": [
      "[[ 0.18518519 -0.07407407]\n",
      " [-0.14814815  0.25925926]]\n"
     ]
    }
   ],
   "source": [
    "new=np.array([[7,2],[4,5]])\n",
    "print(linalg.inv(new))"
   ]
  },
  {
   "cell_type": "code",
   "execution_count": 20,
   "id": "d11efb5a-17d4-4ac0-bfcf-79d6bf163e98",
   "metadata": {},
   "outputs": [
    {
     "data": {
      "text/plain": [
       "21.0"
      ]
     },
     "execution_count": 20,
     "metadata": {},
     "output_type": "execute_result"
    }
   ],
   "source": [
    "mat=np.array([[9,6],[4,5]])\n",
    "linalg.det(mat)"
   ]
  },
  {
   "cell_type": "code",
   "execution_count": 22,
   "id": "92b96ae8-d48c-4cf0-a674-a1d75eee914c",
   "metadata": {},
   "outputs": [],
   "source": [
    "M=np.array([[9,3],[2,4]])"
   ]
  },
  {
   "cell_type": "code",
   "execution_count": 24,
   "id": "f7c152ca-3aac-4ab6-8df3-b5b2e84cd0d1",
   "metadata": {},
   "outputs": [],
   "source": [
    "val,vect=linalg.eig(M)"
   ]
  },
  {
   "cell_type": "code",
   "execution_count": 26,
   "id": "718fc7db-d750-43a4-8467-4323a5441caa",
   "metadata": {},
   "outputs": [
    {
     "data": {
      "text/plain": [
       "array([10.+0.j,  3.+0.j])"
      ]
     },
     "execution_count": 26,
     "metadata": {},
     "output_type": "execute_result"
    }
   ],
   "source": [
    "val"
   ]
  },
  {
   "cell_type": "code",
   "execution_count": 28,
   "id": "2d5413fe-5409-49ad-9f17-7b0a8cd8c002",
   "metadata": {},
   "outputs": [
    {
     "data": {
      "text/plain": [
       "array([[ 0.9486833 , -0.4472136 ],\n",
       "       [ 0.31622777,  0.89442719]])"
      ]
     },
     "execution_count": 28,
     "metadata": {},
     "output_type": "execute_result"
    }
   ],
   "source": [
    "vect"
   ]
  },
  {
   "cell_type": "code",
   "execution_count": 30,
   "id": "55f65b8c-d6ae-4ffe-a956-0cd29141efdb",
   "metadata": {},
   "outputs": [
    {
     "data": {
      "text/plain": [
       "array([[2.5773504 , 0.42264974],\n",
       "       [0.8452995 , 2.1547005 ]], dtype=float32)"
      ]
     },
     "execution_count": 30,
     "metadata": {},
     "output_type": "execute_result"
    }
   ],
   "source": [
    "linalg.sqrtm(new)"
   ]
  },
  {
   "cell_type": "code",
   "execution_count": 32,
   "id": "9de861e3-60d9-4ea7-ac8a-354fb7913c8c",
   "metadata": {},
   "outputs": [
    {
     "data": {
      "text/plain": [
       "array([[5408.75113069, 2694.33279688],\n",
       "       [5388.66559377, 2714.41833381]])"
      ]
     },
     "execution_count": 32,
     "metadata": {},
     "output_type": "execute_result"
    }
   ],
   "source": [
    "linalg.expm(new)"
   ]
  },
  {
   "cell_type": "code",
   "execution_count": 34,
   "id": "b7229a46-ad53-4d01-ae62-21dd3d563db4",
   "metadata": {},
   "outputs": [
    {
     "data": {
      "text/plain": [
       "array([[0.32178566, 0.09033283],\n",
       "       [0.18066565, 0.23145283]])"
      ]
     },
     "execution_count": 34,
     "metadata": {},
     "output_type": "execute_result"
    }
   ],
   "source": [
    "linalg.sinm(new)"
   ]
  },
  {
   "cell_type": "code",
   "execution_count": 36,
   "id": "b5f278a6-c2b8-4c0b-b37d-52e016df2b96",
   "metadata": {},
   "outputs": [],
   "source": [
    "from scipy.integrate import quad"
   ]
  },
  {
   "cell_type": "code",
   "execution_count": 38,
   "id": "efd29f15-4fdb-480c-a47d-2b7f8cff3fc9",
   "metadata": {},
   "outputs": [
    {
     "data": {
      "text/plain": [
       "2.0"
      ]
     },
     "execution_count": 38,
     "metadata": {},
     "output_type": "execute_result"
    }
   ],
   "source": [
    "def f(x):\n",
    "    return 3.0*x*x+1.0\n",
    "I,err=quad(f,0,1)\n",
    "I"
   ]
  },
  {
   "cell_type": "code",
   "execution_count": 40,
   "id": "7e27ac37-0e14-41fa-b0e9-e3aba0ae7f0f",
   "metadata": {},
   "outputs": [
    {
     "data": {
      "text/plain": [
       "2.220446049250313e-14"
      ]
     },
     "execution_count": 40,
     "metadata": {},
     "output_type": "execute_result"
    }
   ],
   "source": [
    "err"
   ]
  },
  {
   "cell_type": "code",
   "execution_count": 42,
   "id": "b5034b41-f040-41d8-a0bc-88dca5c476d3",
   "metadata": {},
   "outputs": [],
   "source": [
    "from scipy.integrate import dblquad"
   ]
  },
  {
   "cell_type": "code",
   "execution_count": 48,
   "id": "a9ae4f9d-0d88-4d96-8bae-b85bd99ad9d1",
   "metadata": {},
   "outputs": [],
   "source": [
    "area=dblquad(lambda x,y:x*y,0,0.5,lambda x:0,lambda x:1-2*x)"
   ]
  },
  {
   "cell_type": "code",
   "execution_count": 50,
   "id": "d74a85a7-7b39-4593-a7cd-6b115b45d641",
   "metadata": {},
   "outputs": [
    {
     "data": {
      "text/plain": [
       "(0.010416666666666668, 4.101620128472366e-16)"
      ]
     },
     "execution_count": 50,
     "metadata": {},
     "output_type": "execute_result"
    }
   ],
   "source": [
    "area"
   ]
  },
  {
   "cell_type": "code",
   "execution_count": 56,
   "id": "dfe82863-c4e2-460d-9e54-e80eb1105b97",
   "metadata": {},
   "outputs": [
    {
     "data": {
      "text/plain": [
       "(78.12499999999999, 8.673617379884033e-13)"
      ]
     },
     "execution_count": 56,
     "metadata": {},
     "output_type": "execute_result"
    }
   ],
   "source": [
    "from scipy.integrate import nquad\n",
    "\n",
    "def f(x,y,z):\n",
    "    return x*y*z\n",
    "\n",
    "I = nquad(f, [[0,1],[0,5],[0,5]])\n",
    "I"
   ]
  },
  {
   "cell_type": "code",
   "execution_count": 58,
   "id": "2bea6d8b-6d3a-4d43-b7a4-562cc1345515",
   "metadata": {},
   "outputs": [
    {
     "name": "stdout",
     "output_type": "stream",
     "text": [
      "(11.25, None)\n"
     ]
    }
   ],
   "source": [
    "from scipy import integrate\n",
    "\n",
    "def func(x): return 3*x**3\n",
    "\n",
    "res=integrate.fixed_quad(func, 1.0, 2.0, n=2)\n",
    "print(res)"
   ]
  },
  {
   "cell_type": "code",
   "execution_count": 66,
   "id": "ee769098-659c-41ed-aae0-562a523e364e",
   "metadata": {},
   "outputs": [
    {
     "name": "stderr",
     "output_type": "stream",
     "text": [
      "C:\\Users\\RWIK\\AppData\\Local\\Temp\\ipykernel_19504\\4135644405.py:1: DeprecationWarning: `scipy.integrate.quadrature` is deprecated as of SciPy 1.12.0and will be removed in SciPy 1.15.0. Please use`scipy.integrate.quad` instead.\n",
      "  g=integrate.quadrature(func, 0.0, 0.1)\n"
     ]
    },
    {
     "data": {
      "text/plain": [
       "(7.500000000000005e-05, 4.0657581468206416e-20)"
      ]
     },
     "execution_count": 66,
     "metadata": {},
     "output_type": "execute_result"
    }
   ],
   "source": [
    "g=integrate.quadrature(func, 0.0, 0.1)\n",
    "g"
   ]
  },
  {
   "cell_type": "code",
   "execution_count": 68,
   "id": "0d5ca815-c4ef-4c2d-b884-16230882570d",
   "metadata": {},
   "outputs": [
    {
     "name": "stdout",
     "output_type": "stream",
     "text": [
      "Romberg integration of <function vectorize1.<locals>.vfunc at 0x0000018A814D8CC0> from [1, 2]\n",
      "\n",
      " Steps  StepSize   Results\n",
      "     1  1.000000 42.411501 \n",
      "     2  0.500000 37.110063 35.342917 \n",
      "     4  0.250000 35.784704 35.342917 35.342917 \n",
      "\n",
      "The final result is 35.34291735288517 after 5 function evaluations.\n",
      "35.34291735288517\n"
     ]
    },
    {
     "name": "stderr",
     "output_type": "stream",
     "text": [
      "C:\\Users\\RWIK\\AppData\\Local\\Temp\\ipykernel_19504\\3151389227.py:2: DeprecationWarning: `scipy.integrate.romberg` is deprecated as of SciPy 1.12.0and will be removed in SciPy 1.15.0. Please use`scipy.integrate.quad` instead.\n",
      "  g=integrate.romberg(f, 1, 2, show=True)\n"
     ]
    }
   ],
   "source": [
    "f = lambda x: 3*(np.pi)*x**3\n",
    "g=integrate.romberg(f, 1, 2, show=True)\n",
    "print(g)"
   ]
  },
  {
   "cell_type": "code",
   "execution_count": 70,
   "id": "14270229-a2b0-4d16-92ac-b400d3c80f15",
   "metadata": {},
   "outputs": [
    {
     "data": {
      "text/plain": [
       "6.0"
      ]
     },
     "execution_count": 70,
     "metadata": {},
     "output_type": "execute_result"
    }
   ],
   "source": [
    "b=[2,4]\n",
    "a=[6,8]\n",
    "\n",
    "f=np.trapz(b,a)\n",
    "f"
   ]
  },
  {
   "cell_type": "code",
   "execution_count": 72,
   "id": "99b123b6-cd47-48ee-8ae0-f7af20317e0d",
   "metadata": {},
   "outputs": [
    {
     "name": "stderr",
     "output_type": "stream",
     "text": [
      "C:\\Users\\RWIK\\AppData\\Local\\Temp\\ipykernel_19504\\173261913.py:3: DeprecationWarning: 'scipy.integrate.cumtrapz' is deprecated in favour of 'scipy.integrate.cumulative_trapezoid' and will be removed in SciPy 1.14.0\n",
      "  f=integrate.cumtrapz(b,a)\n"
     ]
    },
    {
     "data": {
      "text/plain": [
       "array([0.5, 2. , 4.5, 8. ])"
      ]
     },
     "execution_count": 72,
     "metadata": {},
     "output_type": "execute_result"
    }
   ],
   "source": [
    "a=np.arange(0,5)\n",
    "b=np.arange(0,5)\n",
    "f=integrate.cumtrapz(b,a)\n",
    "f"
   ]
  },
  {
   "cell_type": "code",
   "execution_count": 78,
   "id": "b111477e-c168-47ce-a5dd-6132b74c9fcd",
   "metadata": {},
   "outputs": [
    {
     "name": "stderr",
     "output_type": "stream",
     "text": [
      "C:\\Users\\RWIK\\AppData\\Local\\Temp\\ipykernel_19504\\4085686046.py:1: DeprecationWarning: 'scipy.integrate.simps' is deprecated in favour of 'scipy.integrate.simpson' and will be removed in SciPy 1.14.0\n",
      "  f=integrate.simps(b,a)\n"
     ]
    },
    {
     "data": {
      "text/plain": [
       "8.0"
      ]
     },
     "execution_count": 78,
     "metadata": {},
     "output_type": "execute_result"
    }
   ],
   "source": [
    "f=integrate.simps(b,a)\n",
    "f"
   ]
  },
  {
   "cell_type": "code",
   "execution_count": 80,
   "id": "55b1b529-541e-4b6d-b43a-5f15e91b5168",
   "metadata": {},
   "outputs": [
    {
     "data": {
      "text/plain": [
       "8.0"
      ]
     },
     "execution_count": 80,
     "metadata": {},
     "output_type": "execute_result"
    }
   ],
   "source": [
    "f=integrate.romb(b)\n",
    "f"
   ]
  },
  {
   "cell_type": "code",
   "execution_count": 86,
   "id": "a31978cf-c651-46dc-97f0-f6cef0ce7a19",
   "metadata": {},
   "outputs": [
    {
     "name": "stdout",
     "output_type": "stream",
     "text": [
      "\n",
      "\n",
      "Using polyint\n",
      "p1 anti-derivative of order = 2: \n",
      "    2\n",
      "1 x + 6 x\n",
      "p2 anti-derivative of order = 2: \n",
      "         3     2\n",
      "0.6667 x + 4 x\n"
     ]
    }
   ],
   "source": [
    "import numpy as np\n",
    "p1=np.poly1d([2,6])\n",
    "p2=np.poly1d([4,8])\n",
    "\n",
    "a=np.polyint(p1,1)\n",
    "b=np.polyint(p2,2)\n",
    "\n",
    "print(\"\\n\\nUsing polyint\")\n",
    "print(\"p1 anti-derivative of order = 2: \\n\", a)\n",
    "print(\"p2 anti-derivative of order = 2: \\n\", b)"
   ]
  },
  {
   "cell_type": "code",
   "execution_count": 2,
   "id": "09afe664-1a8a-46ac-861d-d09a16303929",
   "metadata": {},
   "outputs": [
    {
     "data": {
      "text/plain": [
       "       message: Optimization terminated successfully.\n",
       "       success: True\n",
       "        status: 0\n",
       "           fun: 1.303283116723792e-11\n",
       "             x: [ 1.000e+00  7.422e-01  8.528e-01  1.964e+00  1.221e+00]\n",
       "           nit: 70\n",
       "          nfev: 136\n",
       " final_simplex: (array([[ 1.000e+00,  7.422e-01, ...,  1.964e+00,\n",
       "                         1.221e+00],\n",
       "                       [ 1.000e+00,  7.422e-01, ...,  1.964e+00,\n",
       "                         1.221e+00],\n",
       "                       ...,\n",
       "                       [ 1.000e+00,  7.422e-01, ...,  1.964e+00,\n",
       "                         1.221e+00],\n",
       "                       [ 1.000e+00,  7.422e-01, ...,  1.964e+00,\n",
       "                         1.221e+00]]), array([ 1.303e-11,  2.546e-11,  3.758e-11,  5.550e-11,\n",
       "                        5.619e-11,  7.629e-11]))"
      ]
     },
     "execution_count": 2,
     "metadata": {},
     "output_type": "execute_result"
    }
   ],
   "source": [
    "import numpy as np\n",
    "import scipy\n",
    "from scipy.optimize import minimize\n",
    "def f(x):\n",
    " return .2*(1 - x[0])**2\n",
    "x1=np.array([1.3, 0.7, 0.8, 1.9, 1.2])\n",
    "scipy.optimize.minimize(f,x1, method=\"Nelder-Mead\")"
   ]
  },
  {
   "cell_type": "code",
   "execution_count": 4,
   "id": "48de6776-cfd7-4cb8-8058-b5158fe3891b",
   "metadata": {},
   "outputs": [
    {
     "name": "stdout",
     "output_type": "stream",
     "text": [
      "     message: `gtol` termination condition is satisfied.\n",
      "     success: True\n",
      "      status: 1\n",
      "         fun: [-1.110e-15  0.000e+00]\n",
      "           x: [ 1.000e+00  1.000e+00]\n",
      "        cost: 6.162975822039155e-31\n",
      "         jac: [[-3.000e+01  1.000e+01]\n",
      "               [-1.000e+00  0.000e+00]]\n",
      "        grad: [ 3.331e-14 -1.110e-14]\n",
      "  optimality: 3.3306691235063064e-14\n",
      " active_mask: [ 0.000e+00  0.000e+00]\n",
      "        nfev: 4\n",
      "        njev: 4\n"
     ]
    }
   ],
   "source": [
    "from scipy.optimize import least_squares\n",
    "import numpy as np\n",
    "input = np.array([2, 2])\n",
    "def rosenbrock(x):\n",
    " return np.array([10 * (x[1] - x[0]**3), (1 - x[0])])\n",
    "res = least_squares(rosenbrock, input)\n",
    "print(res)"
   ]
  },
  {
   "cell_type": "code",
   "execution_count": 6,
   "id": "bca60ccb-81b7-4be2-bcb8-97bb28bdc740",
   "metadata": {},
   "outputs": [
    {
     "data": {
      "text/plain": [
       "array([6.50409711, 0.90841421])"
      ]
     },
     "execution_count": 6,
     "metadata": {},
     "output_type": "execute_result"
    }
   ],
   "source": [
    "from scipy.optimize import fsolve\n",
    "def func(x):\n",
    " return [x[0] * np.cos(x[1]) - 4,\n",
    " x[1] * x[0] - x[1] - 5]\n",
    "root = fsolve(func, [1, 1])\n",
    "root"
   ]
  },
  {
   "cell_type": "code",
   "execution_count": 8,
   "id": "97393247-5727-411b-895d-92d709b63b29",
   "metadata": {},
   "outputs": [
    {
     "name": "stdout",
     "output_type": "stream",
     "text": [
      "[5.2 5.4 5.6 5.8 6.  6.2 6.4 6.6 6.8]\n"
     ]
    }
   ],
   "source": [
    "from scipy.interpolate import interp1d\n",
    "import numpy as np\n",
    "xs = np.arange(10)\n",
    "ys = 2*xs + 1\n",
    "interp_func = interp1d(xs, ys)\n",
    "newarr = interp_func(np.arange(2.1, 3, 0.1))\n",
    "print(newarr)"
   ]
  },
  {
   "cell_type": "code",
   "execution_count": 33,
   "id": "54e4aad0-3760-41e5-9e9c-532f04d6066d",
   "metadata": {},
   "outputs": [
    {
     "data": {
      "image/png": "[encoded data removed]",
      "text/plain": [
       "<Figure size 640x480 with 1 Axes>"
      ]
     },
     "metadata": {},
     "output_type": "display_data"
    }
   ],
   "source": [
    "from scipy.interpolate import interp1d\n",
    "import matplotlib.pyplot as plt\n",
    "import numpy as np\n",
    "x = np.linspace(0, 5, 10)\n",
    "y = np.cos(x**2/3+4)\n",
    "#fun1 = interp1d(x, y,kind = 'linear')\n",
    "fun2 = interp1d(x, y, kind = 'cubic')\n",
    "#we define a new set of input\n",
    "xnew = np.linspace(0, 4,30)\n",
    "plt.plot(x, y, 'o', xnew, fun2(xnew), '-')\n",
    "plt.legend(['data', 'linear', 'cubic','nearest'], loc = 'best')\n",
    "plt.show()"
   ]
  },
  {
   "cell_type": "code",
   "execution_count": null,
   "id": "f384dfbb-11b5-4633-b0e8-c13674ed5c7b",
   "metadata": {},
   "outputs": [],
   "source": []
  },
  {
   "cell_type": "code",
   "execution_count": null,
   "id": "a6d57036-c287-4846-b4a9-7a7c77209ebb",
   "metadata": {},
   "outputs": [],
   "source": []
  }
 ],
 "metadata": {
  "kernelspec": {
   "display_name": "Python 3 (ipykernel)",
   "language": "python",
   "name": "python3"
  },
  "language_info": {
   "codemirror_mode": {
    "name": "ipython",
    "version": 3
   },
   "file_extension": ".py",
   "mimetype": "text/x-python",
   "name": "python",
   "nbconvert_exporter": "python",
   "pygments_lexer": "ipython3",
   "version": "3.12.4"
  }
 },
 "nbformat": 4,
 "nbformat_minor": 5
}
