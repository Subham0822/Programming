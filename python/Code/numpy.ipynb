{
 "cells": [
  {
   "cell_type": "code",
   "execution_count": 1,
   "id": "a322f35e-5e3d-4801-afeb-383767b10101",
   "metadata": {},
   "outputs": [],
   "source": [
    "from numpy import *"
   ]
  },
  {
   "cell_type": "code",
   "execution_count": 4,
   "id": "a75f1a1e-fd0d-4f2e-b4c8-c27259e1ddb9",
   "metadata": {},
   "outputs": [],
   "source": [
    "arr=array([1,2,3,4,5],int)"
   ]
  },
  {
   "cell_type": "code",
   "execution_count": 5,
   "id": "ab817fd9-1b83-4b88-a0e5-53ad5651e794",
   "metadata": {},
   "outputs": [
    {
     "name": "stdout",
     "output_type": "stream",
     "text": [
      "[1 2 3 4 5]\n"
     ]
    }
   ],
   "source": [
    "print(arr)"
   ]
  },
  {
   "cell_type": "code",
   "execution_count": 11,
   "id": "687112f7-ca4f-4993-b457-62d3256634f1",
   "metadata": {},
   "outputs": [
    {
     "name": "stdout",
     "output_type": "stream",
     "text": [
      "[ 0.          0.2173913   0.43478261  0.65217391  0.86956522  1.08695652\n",
      "  1.30434783  1.52173913  1.73913043  1.95652174  2.17391304  2.39130435\n",
      "  2.60869565  2.82608696  3.04347826  3.26086957  3.47826087  3.69565217\n",
      "  3.91304348  4.13043478  4.34782609  4.56521739  4.7826087   5.\n",
      "  5.2173913   5.43478261  5.65217391  5.86956522  6.08695652  6.30434783\n",
      "  6.52173913  6.73913043  6.95652174  7.17391304  7.39130435  7.60869565\n",
      "  7.82608696  8.04347826  8.26086957  8.47826087  8.69565217  8.91304348\n",
      "  9.13043478  9.34782609  9.56521739  9.7826087  10.         10.2173913\n",
      " 10.43478261 10.65217391 10.86956522 11.08695652 11.30434783 11.52173913\n",
      " 11.73913043 11.95652174 12.17391304 12.39130435 12.60869565 12.82608696\n",
      " 13.04347826 13.26086957 13.47826087 13.69565217 13.91304348 14.13043478\n",
      " 14.34782609 14.56521739 14.7826087  15.        ]\n"
     ]
    }
   ],
   "source": [
    "arr=linspace(0,15,70)\n",
    "print(arr)"
   ]
  },
  {
   "cell_type": "code",
   "execution_count": 13,
   "id": "2534fd33-d410-4715-aaee-70ad1aa68402",
   "metadata": {},
   "outputs": [
    {
     "name": "stdout",
     "output_type": "stream",
     "text": [
      "[ 1  3  5  7  9 11 13]\n"
     ]
    }
   ],
   "source": [
    "arr=arange(1,15,2)\n",
    "print(arr)"
   ]
  },
  {
   "cell_type": "code",
   "execution_count": 15,
   "id": "34565ffd-ff5a-4ac8-83e4-54de6d187577",
   "metadata": {},
   "outputs": [
    {
     "name": "stdout",
     "output_type": "stream",
     "text": [
      "[1.00000000e+01 5.62341325e+10 3.16227766e+20 1.77827941e+30\n",
      " 1.00000000e+40]\n"
     ]
    }
   ],
   "source": [
    "arr=logspace(1,40,5)\n",
    "print(arr)"
   ]
  },
  {
   "cell_type": "code",
   "execution_count": 17,
   "id": "e6f785ea-da46-4b1d-a0c3-c73f43dcfaf3",
   "metadata": {},
   "outputs": [
    {
     "name": "stdout",
     "output_type": "stream",
     "text": [
      "[1. 1. 1. 1. 1.]\n"
     ]
    }
   ],
   "source": [
    "arr=ones(5,float)\n",
    "print(arr)"
   ]
  },
  {
   "cell_type": "code",
   "execution_count": 18,
   "id": "27d15ba4-f593-4890-b037-596c96864fb9",
   "metadata": {},
   "outputs": [],
   "source": [
    "arr=zeros(5,int)"
   ]
  },
  {
   "cell_type": "code",
   "execution_count": 19,
   "id": "4711cae2-5e40-49ef-8b74-d08f967ed1f6",
   "metadata": {},
   "outputs": [
    {
     "data": {
      "text/plain": [
       "array([0, 0, 0, 0, 0])"
      ]
     },
     "execution_count": 19,
     "metadata": {},
     "output_type": "execute_result"
    }
   ],
   "source": [
    "arr"
   ]
  },
  {
   "cell_type": "code",
   "execution_count": 20,
   "id": "ecb72ba5-5fd1-4eba-96de-37e47cc938ee",
   "metadata": {},
   "outputs": [
    {
     "name": "stdout",
     "output_type": "stream",
     "text": [
      "[6 7 8 9]\n"
     ]
    }
   ],
   "source": [
    "arr=array([1,2,3,4])\n",
    "print(arr+5)"
   ]
  },
  {
   "cell_type": "code",
   "execution_count": 21,
   "id": "9adf2cd5-7b90-4a20-8e1e-edef3cf1d2af",
   "metadata": {},
   "outputs": [
    {
     "name": "stdout",
     "output_type": "stream",
     "text": [
      "[10 10  4  3]\n"
     ]
    }
   ],
   "source": [
    "arr1=array([6,4,3,1])\n",
    "arr2=array([4,6,1,2])\n",
    "print(arr1+arr2)"
   ]
  },
  {
   "cell_type": "code",
   "execution_count": 22,
   "id": "d8798f63-72cd-4978-9a06-1d7c649b456a",
   "metadata": {},
   "outputs": [
    {
     "name": "stdout",
     "output_type": "stream",
     "text": [
      "[-0.2794155  -0.7568025   0.14112001  0.84147098]\n"
     ]
    }
   ],
   "source": [
    "print(sin(arr1))"
   ]
  },
  {
   "cell_type": "code",
   "execution_count": 23,
   "id": "b32d55be-edb5-48e1-a81a-e647a5f7e973",
   "metadata": {},
   "outputs": [
    {
     "name": "stdout",
     "output_type": "stream",
     "text": [
      "2278065638064\n",
      "2278065638064\n"
     ]
    }
   ],
   "source": [
    "arr1=array([1,2,3,4])\n",
    "arr2=arr1\n",
    "print(id(arr1))\n",
    "print(id(arr2))"
   ]
  },
  {
   "cell_type": "code",
   "execution_count": 25,
   "id": "ce79f654-a104-412f-b24b-981299816a9f",
   "metadata": {},
   "outputs": [
    {
     "name": "stdout",
     "output_type": "stream",
     "text": [
      "2278065638064\n",
      "2278065637392\n",
      "[1 2 3 4]\n",
      "[1 2 3 4]\n"
     ]
    }
   ],
   "source": [
    "arr2=arr1.view()\n",
    "print(id(arr1))\n",
    "print(id(arr2))\n",
    "print(arr1)\n",
    "print(arr2)"
   ]
  },
  {
   "cell_type": "code",
   "execution_count": 26,
   "id": "4ea7d204-9789-4bbb-a59c-bae2de1704db",
   "metadata": {},
   "outputs": [
    {
     "name": "stdout",
     "output_type": "stream",
     "text": [
      "[1 8 3 4]\n",
      "[1 8 3 4]\n"
     ]
    }
   ],
   "source": [
    "arr1[1]=8\n",
    "print(arr1)\n",
    "print(arr2)"
   ]
  },
  {
   "cell_type": "code",
   "execution_count": 27,
   "id": "a70aca08-9a4d-4766-b4f1-62449ba6c9e9",
   "metadata": {},
   "outputs": [
    {
     "name": "stdout",
     "output_type": "stream",
     "text": [
      "[1 9 3 4]\n",
      "[1 8 3 4]\n"
     ]
    }
   ],
   "source": [
    "arr2=arr1.copy()\n",
    "arr1[1]=9\n",
    "print(arr1)\n",
    "print(arr2)"
   ]
  },
  {
   "cell_type": "code",
   "execution_count": null,
   "id": "ff732fa9-8353-4727-bf7b-04d04d2fa75c",
   "metadata": {},
   "outputs": [],
   "source": []
  }
 ],
 "metadata": {
  "kernelspec": {
   "display_name": "Python 3 (ipykernel)",
   "language": "python",
   "name": "python3"
  },
  "language_info": {
   "codemirror_mode": {
    "name": "ipython",
    "version": 3
   },
   "file_extension": ".py",
   "mimetype": "text/x-python",
   "name": "python",
   "nbconvert_exporter": "python",
   "pygments_lexer": "ipython3",
   "version": "3.12.4"
  }
 },
 "nbformat": 4,
 "nbformat_minor": 5
}
